{
 "metadata": {
  "language_info": {
   "codemirror_mode": {
    "name": "ipython",
    "version": 3
   },
   "file_extension": ".py",
   "mimetype": "text/x-python",
   "name": "python",
   "nbconvert_exporter": "python",
   "pygments_lexer": "ipython3",
   "version": "3.8.5-final"
  },
  "orig_nbformat": 2,
  "kernelspec": {
   "name": "Python 3.8.5 64-bit ('personal': conda)",
   "display_name": "Python 3.8.5 64-bit ('personal': conda)",
   "metadata": {
    "interpreter": {
     "hash": "f3845126b3d581f78e745dda8affc6a4b0e1aa90c83d5e866622c064c54ef05a"
    }
   }
  }
 },
 "nbformat": 4,
 "nbformat_minor": 2,
 "cells": [
  {
   "cell_type": "code",
   "execution_count": 1,
   "metadata": {},
   "outputs": [],
   "source": [
    "import seaborn as sns\n",
    "import pandas as pd\n",
    "import numpy as np"
   ]
  },
  {
   "cell_type": "code",
   "execution_count": 2,
   "metadata": {},
   "outputs": [
    {
     "output_type": "execute_result",
     "data": {
      "text/plain": [
       "      atcf_code storm_name  year  month  day  hour  minute record_id  \\\n",
       "0      AL021975        AMY  1975      6   28     6       0       NaN   \n",
       "1      AL021975        AMY  1975      6   28    12       0       NaN   \n",
       "2      AL021975        AMY  1975      6   28    18       0       NaN   \n",
       "3      AL021975        AMY  1975      6   29     0       0       NaN   \n",
       "4      AL021975        AMY  1975      6   29     6       0       NaN   \n",
       "...         ...        ...   ...    ...  ...   ...     ...       ...   \n",
       "11180  AL162018      OSCAR  2018     10   31    12       0       NaN   \n",
       "11181  AL162018      OSCAR  2018     10   31    18       0       NaN   \n",
       "11182  AL162018      OSCAR  2018     11    1     0       0       NaN   \n",
       "11183  AL162018      OSCAR  2018     11    1     6       0       NaN   \n",
       "11184  AL162018      OSCAR  2018     11    1    12       0       NaN   \n",
       "\n",
       "      system_status  latitude  ...  000hI01  012hI01  024hI01  036hI01  \\\n",
       "0                TD      32.4  ...      NaN      NaN      NaN      NaN   \n",
       "1                TD      33.3  ...      NaN      NaN      NaN      NaN   \n",
       "2                TD      34.0  ...      NaN      NaN      NaN      NaN   \n",
       "3                TS      34.4  ...  -9999.0  -9999.0  -9999.0  -9999.0   \n",
       "4                TS      34.0  ...  -9999.0  -9999.0  -9999.0  -9999.0   \n",
       "...             ...       ...  ...      ...      ...      ...      ...   \n",
       "11180            HU      35.4  ...     -5.0  -9999.0  -9999.0  -9999.0   \n",
       "11181            EX      38.0  ...      NaN      NaN      NaN      NaN   \n",
       "11182            EX      40.7  ...      NaN      NaN      NaN      NaN   \n",
       "11183            EX      43.4  ...      NaN      NaN      NaN      NaN   \n",
       "11184            EX      46.0  ...      NaN      NaN      NaN      NaN   \n",
       "\n",
       "       048hI01  072hI01  096hI01  120hI01  144hI01  168hI01  \n",
       "0          NaN      NaN      NaN      NaN      NaN      NaN  \n",
       "1          NaN      NaN      NaN      NaN      NaN      NaN  \n",
       "2          NaN      NaN      NaN      NaN      NaN      NaN  \n",
       "3      -9999.0  -9999.0  -9999.0  -9999.0  -9999.0  -9999.0  \n",
       "4      -9999.0  -9999.0  -9999.0  -9999.0  -9999.0  -9999.0  \n",
       "...        ...      ...      ...      ...      ...      ...  \n",
       "11180  -9999.0  -9999.0  -9999.0  -9999.0  -9999.0  -9999.0  \n",
       "11181      NaN      NaN      NaN      NaN      NaN      NaN  \n",
       "11182      NaN      NaN      NaN      NaN      NaN      NaN  \n",
       "11183      NaN      NaN      NaN      NaN      NaN      NaN  \n",
       "11184      NaN      NaN      NaN      NaN      NaN      NaN  \n",
       "\n",
       "[11185 rows x 352 columns]"
      ],
      "text/html": "<div>\n<style scoped>\n    .dataframe tbody tr th:only-of-type {\n        vertical-align: middle;\n    }\n\n    .dataframe tbody tr th {\n        vertical-align: top;\n    }\n\n    .dataframe thead th {\n        text-align: right;\n    }\n</style>\n<table border=\"1\" class=\"dataframe\">\n  <thead>\n    <tr style=\"text-align: right;\">\n      <th></th>\n      <th>atcf_code</th>\n      <th>storm_name</th>\n      <th>year</th>\n      <th>month</th>\n      <th>day</th>\n      <th>hour</th>\n      <th>minute</th>\n      <th>record_id</th>\n      <th>system_status</th>\n      <th>latitude</th>\n      <th>...</th>\n      <th>000hI01</th>\n      <th>012hI01</th>\n      <th>024hI01</th>\n      <th>036hI01</th>\n      <th>048hI01</th>\n      <th>072hI01</th>\n      <th>096hI01</th>\n      <th>120hI01</th>\n      <th>144hI01</th>\n      <th>168hI01</th>\n    </tr>\n  </thead>\n  <tbody>\n    <tr>\n      <th>0</th>\n      <td>AL021975</td>\n      <td>AMY</td>\n      <td>1975</td>\n      <td>6</td>\n      <td>28</td>\n      <td>6</td>\n      <td>0</td>\n      <td>NaN</td>\n      <td>TD</td>\n      <td>32.4</td>\n      <td>...</td>\n      <td>NaN</td>\n      <td>NaN</td>\n      <td>NaN</td>\n      <td>NaN</td>\n      <td>NaN</td>\n      <td>NaN</td>\n      <td>NaN</td>\n      <td>NaN</td>\n      <td>NaN</td>\n      <td>NaN</td>\n    </tr>\n    <tr>\n      <th>1</th>\n      <td>AL021975</td>\n      <td>AMY</td>\n      <td>1975</td>\n      <td>6</td>\n      <td>28</td>\n      <td>12</td>\n      <td>0</td>\n      <td>NaN</td>\n      <td>TD</td>\n      <td>33.3</td>\n      <td>...</td>\n      <td>NaN</td>\n      <td>NaN</td>\n      <td>NaN</td>\n      <td>NaN</td>\n      <td>NaN</td>\n      <td>NaN</td>\n      <td>NaN</td>\n      <td>NaN</td>\n      <td>NaN</td>\n      <td>NaN</td>\n    </tr>\n    <tr>\n      <th>2</th>\n      <td>AL021975</td>\n      <td>AMY</td>\n      <td>1975</td>\n      <td>6</td>\n      <td>28</td>\n      <td>18</td>\n      <td>0</td>\n      <td>NaN</td>\n      <td>TD</td>\n      <td>34.0</td>\n      <td>...</td>\n      <td>NaN</td>\n      <td>NaN</td>\n      <td>NaN</td>\n      <td>NaN</td>\n      <td>NaN</td>\n      <td>NaN</td>\n      <td>NaN</td>\n      <td>NaN</td>\n      <td>NaN</td>\n      <td>NaN</td>\n    </tr>\n    <tr>\n      <th>3</th>\n      <td>AL021975</td>\n      <td>AMY</td>\n      <td>1975</td>\n      <td>6</td>\n      <td>29</td>\n      <td>0</td>\n      <td>0</td>\n      <td>NaN</td>\n      <td>TS</td>\n      <td>34.4</td>\n      <td>...</td>\n      <td>-9999.0</td>\n      <td>-9999.0</td>\n      <td>-9999.0</td>\n      <td>-9999.0</td>\n      <td>-9999.0</td>\n      <td>-9999.0</td>\n      <td>-9999.0</td>\n      <td>-9999.0</td>\n      <td>-9999.0</td>\n      <td>-9999.0</td>\n    </tr>\n    <tr>\n      <th>4</th>\n      <td>AL021975</td>\n      <td>AMY</td>\n      <td>1975</td>\n      <td>6</td>\n      <td>29</td>\n      <td>6</td>\n      <td>0</td>\n      <td>NaN</td>\n      <td>TS</td>\n      <td>34.0</td>\n      <td>...</td>\n      <td>-9999.0</td>\n      <td>-9999.0</td>\n      <td>-9999.0</td>\n      <td>-9999.0</td>\n      <td>-9999.0</td>\n      <td>-9999.0</td>\n      <td>-9999.0</td>\n      <td>-9999.0</td>\n      <td>-9999.0</td>\n      <td>-9999.0</td>\n    </tr>\n    <tr>\n      <th>...</th>\n      <td>...</td>\n      <td>...</td>\n      <td>...</td>\n      <td>...</td>\n      <td>...</td>\n      <td>...</td>\n      <td>...</td>\n      <td>...</td>\n      <td>...</td>\n      <td>...</td>\n      <td>...</td>\n      <td>...</td>\n      <td>...</td>\n      <td>...</td>\n      <td>...</td>\n      <td>...</td>\n      <td>...</td>\n      <td>...</td>\n      <td>...</td>\n      <td>...</td>\n      <td>...</td>\n    </tr>\n    <tr>\n      <th>11180</th>\n      <td>AL162018</td>\n      <td>OSCAR</td>\n      <td>2018</td>\n      <td>10</td>\n      <td>31</td>\n      <td>12</td>\n      <td>0</td>\n      <td>NaN</td>\n      <td>HU</td>\n      <td>35.4</td>\n      <td>...</td>\n      <td>-5.0</td>\n      <td>-9999.0</td>\n      <td>-9999.0</td>\n      <td>-9999.0</td>\n      <td>-9999.0</td>\n      <td>-9999.0</td>\n      <td>-9999.0</td>\n      <td>-9999.0</td>\n      <td>-9999.0</td>\n      <td>-9999.0</td>\n    </tr>\n    <tr>\n      <th>11181</th>\n      <td>AL162018</td>\n      <td>OSCAR</td>\n      <td>2018</td>\n      <td>10</td>\n      <td>31</td>\n      <td>18</td>\n      <td>0</td>\n      <td>NaN</td>\n      <td>EX</td>\n      <td>38.0</td>\n      <td>...</td>\n      <td>NaN</td>\n      <td>NaN</td>\n      <td>NaN</td>\n      <td>NaN</td>\n      <td>NaN</td>\n      <td>NaN</td>\n      <td>NaN</td>\n      <td>NaN</td>\n      <td>NaN</td>\n      <td>NaN</td>\n    </tr>\n    <tr>\n      <th>11182</th>\n      <td>AL162018</td>\n      <td>OSCAR</td>\n      <td>2018</td>\n      <td>11</td>\n      <td>1</td>\n      <td>0</td>\n      <td>0</td>\n      <td>NaN</td>\n      <td>EX</td>\n      <td>40.7</td>\n      <td>...</td>\n      <td>NaN</td>\n      <td>NaN</td>\n      <td>NaN</td>\n      <td>NaN</td>\n      <td>NaN</td>\n      <td>NaN</td>\n      <td>NaN</td>\n      <td>NaN</td>\n      <td>NaN</td>\n      <td>NaN</td>\n    </tr>\n    <tr>\n      <th>11183</th>\n      <td>AL162018</td>\n      <td>OSCAR</td>\n      <td>2018</td>\n      <td>11</td>\n      <td>1</td>\n      <td>6</td>\n      <td>0</td>\n      <td>NaN</td>\n      <td>EX</td>\n      <td>43.4</td>\n      <td>...</td>\n      <td>NaN</td>\n      <td>NaN</td>\n      <td>NaN</td>\n      <td>NaN</td>\n      <td>NaN</td>\n      <td>NaN</td>\n      <td>NaN</td>\n      <td>NaN</td>\n      <td>NaN</td>\n      <td>NaN</td>\n    </tr>\n    <tr>\n      <th>11184</th>\n      <td>AL162018</td>\n      <td>OSCAR</td>\n      <td>2018</td>\n      <td>11</td>\n      <td>1</td>\n      <td>12</td>\n      <td>0</td>\n      <td>NaN</td>\n      <td>EX</td>\n      <td>46.0</td>\n      <td>...</td>\n      <td>NaN</td>\n      <td>NaN</td>\n      <td>NaN</td>\n      <td>NaN</td>\n      <td>NaN</td>\n      <td>NaN</td>\n      <td>NaN</td>\n      <td>NaN</td>\n      <td>NaN</td>\n      <td>NaN</td>\n    </tr>\n  </tbody>\n</table>\n<p>11185 rows × 352 columns</p>\n</div>"
     },
     "metadata": {},
     "execution_count": 2
    }
   ],
   "source": [
    "bfe_processed_df = pd.read_csv(\"./data/hurdat_bfe_joined.csv\")\n",
    "bfe_processed_df"
   ]
  },
  {
   "cell_type": "code",
   "execution_count": 30,
   "metadata": {},
   "outputs": [
    {
     "output_type": "execute_result",
     "data": {
      "text/plain": [
       "  atcf_code storm_name  month  day  hour  minute  000hT01  012hT01  024hT01  \\\n",
       "0  AL021975        AMY      6   28     6       0      NaN      NaN      NaN   \n",
       "1  AL021975        AMY      6   28    12       0      NaN      NaN      NaN   \n",
       "2  AL021975        AMY      6   28    18       0      NaN      NaN      NaN   \n",
       "3  AL021975        AMY      6   29     0       0      NaN      NaN      NaN   \n",
       "4  AL021975        AMY      6   29     6       0      NaN      NaN      NaN   \n",
       "5  AL021975        AMY      6   29    12       0      NaN      NaN      NaN   \n",
       "6  AL021975        AMY      6   29    18       0     10.0    117.8    159.6   \n",
       "7  AL021975        AMY      6   30     0       0      7.8     54.3    143.2   \n",
       "8  AL021975        AMY      6   30     6       0      7.7      7.7     56.0   \n",
       "9  AL021975        AMY      6   30    12       0      6.0     45.1    105.7   \n",
       "\n",
       "   036hT01  048hT01  072hT01  096hT01  120hT01  144hT01  168hT01  \n",
       "0      NaN      NaN      NaN      NaN      NaN      NaN      NaN  \n",
       "1      NaN      NaN      NaN      NaN      NaN      NaN      NaN  \n",
       "2      NaN      NaN      NaN      NaN      NaN      NaN      NaN  \n",
       "3      NaN      NaN      NaN      NaN      NaN      NaN      NaN  \n",
       "4      NaN      NaN      NaN      NaN      NaN      NaN      NaN  \n",
       "5      NaN      NaN      NaN      NaN      NaN      NaN      NaN  \n",
       "6      NaN    170.1    212.2      NaN      NaN      NaN      NaN  \n",
       "7      NaN    143.8    161.6      NaN      NaN      NaN      NaN  \n",
       "8      NaN    178.3    356.4      NaN      NaN      NaN      NaN  \n",
       "9      NaN    190.0    251.9      NaN      NaN      NaN      NaN  "
      ],
      "text/html": "<div>\n<style scoped>\n    .dataframe tbody tr th:only-of-type {\n        vertical-align: middle;\n    }\n\n    .dataframe tbody tr th {\n        vertical-align: top;\n    }\n\n    .dataframe thead th {\n        text-align: right;\n    }\n</style>\n<table border=\"1\" class=\"dataframe\">\n  <thead>\n    <tr style=\"text-align: right;\">\n      <th></th>\n      <th>atcf_code</th>\n      <th>storm_name</th>\n      <th>month</th>\n      <th>day</th>\n      <th>hour</th>\n      <th>minute</th>\n      <th>000hT01</th>\n      <th>012hT01</th>\n      <th>024hT01</th>\n      <th>036hT01</th>\n      <th>048hT01</th>\n      <th>072hT01</th>\n      <th>096hT01</th>\n      <th>120hT01</th>\n      <th>144hT01</th>\n      <th>168hT01</th>\n    </tr>\n  </thead>\n  <tbody>\n    <tr>\n      <th>0</th>\n      <td>AL021975</td>\n      <td>AMY</td>\n      <td>6</td>\n      <td>28</td>\n      <td>6</td>\n      <td>0</td>\n      <td>NaN</td>\n      <td>NaN</td>\n      <td>NaN</td>\n      <td>NaN</td>\n      <td>NaN</td>\n      <td>NaN</td>\n      <td>NaN</td>\n      <td>NaN</td>\n      <td>NaN</td>\n      <td>NaN</td>\n    </tr>\n    <tr>\n      <th>1</th>\n      <td>AL021975</td>\n      <td>AMY</td>\n      <td>6</td>\n      <td>28</td>\n      <td>12</td>\n      <td>0</td>\n      <td>NaN</td>\n      <td>NaN</td>\n      <td>NaN</td>\n      <td>NaN</td>\n      <td>NaN</td>\n      <td>NaN</td>\n      <td>NaN</td>\n      <td>NaN</td>\n      <td>NaN</td>\n      <td>NaN</td>\n    </tr>\n    <tr>\n      <th>2</th>\n      <td>AL021975</td>\n      <td>AMY</td>\n      <td>6</td>\n      <td>28</td>\n      <td>18</td>\n      <td>0</td>\n      <td>NaN</td>\n      <td>NaN</td>\n      <td>NaN</td>\n      <td>NaN</td>\n      <td>NaN</td>\n      <td>NaN</td>\n      <td>NaN</td>\n      <td>NaN</td>\n      <td>NaN</td>\n      <td>NaN</td>\n    </tr>\n    <tr>\n      <th>3</th>\n      <td>AL021975</td>\n      <td>AMY</td>\n      <td>6</td>\n      <td>29</td>\n      <td>0</td>\n      <td>0</td>\n      <td>NaN</td>\n      <td>NaN</td>\n      <td>NaN</td>\n      <td>NaN</td>\n      <td>NaN</td>\n      <td>NaN</td>\n      <td>NaN</td>\n      <td>NaN</td>\n      <td>NaN</td>\n      <td>NaN</td>\n    </tr>\n    <tr>\n      <th>4</th>\n      <td>AL021975</td>\n      <td>AMY</td>\n      <td>6</td>\n      <td>29</td>\n      <td>6</td>\n      <td>0</td>\n      <td>NaN</td>\n      <td>NaN</td>\n      <td>NaN</td>\n      <td>NaN</td>\n      <td>NaN</td>\n      <td>NaN</td>\n      <td>NaN</td>\n      <td>NaN</td>\n      <td>NaN</td>\n      <td>NaN</td>\n    </tr>\n    <tr>\n      <th>5</th>\n      <td>AL021975</td>\n      <td>AMY</td>\n      <td>6</td>\n      <td>29</td>\n      <td>12</td>\n      <td>0</td>\n      <td>NaN</td>\n      <td>NaN</td>\n      <td>NaN</td>\n      <td>NaN</td>\n      <td>NaN</td>\n      <td>NaN</td>\n      <td>NaN</td>\n      <td>NaN</td>\n      <td>NaN</td>\n      <td>NaN</td>\n    </tr>\n    <tr>\n      <th>6</th>\n      <td>AL021975</td>\n      <td>AMY</td>\n      <td>6</td>\n      <td>29</td>\n      <td>18</td>\n      <td>0</td>\n      <td>10.0</td>\n      <td>117.8</td>\n      <td>159.6</td>\n      <td>NaN</td>\n      <td>170.1</td>\n      <td>212.2</td>\n      <td>NaN</td>\n      <td>NaN</td>\n      <td>NaN</td>\n      <td>NaN</td>\n    </tr>\n    <tr>\n      <th>7</th>\n      <td>AL021975</td>\n      <td>AMY</td>\n      <td>6</td>\n      <td>30</td>\n      <td>0</td>\n      <td>0</td>\n      <td>7.8</td>\n      <td>54.3</td>\n      <td>143.2</td>\n      <td>NaN</td>\n      <td>143.8</td>\n      <td>161.6</td>\n      <td>NaN</td>\n      <td>NaN</td>\n      <td>NaN</td>\n      <td>NaN</td>\n    </tr>\n    <tr>\n      <th>8</th>\n      <td>AL021975</td>\n      <td>AMY</td>\n      <td>6</td>\n      <td>30</td>\n      <td>6</td>\n      <td>0</td>\n      <td>7.7</td>\n      <td>7.7</td>\n      <td>56.0</td>\n      <td>NaN</td>\n      <td>178.3</td>\n      <td>356.4</td>\n      <td>NaN</td>\n      <td>NaN</td>\n      <td>NaN</td>\n      <td>NaN</td>\n    </tr>\n    <tr>\n      <th>9</th>\n      <td>AL021975</td>\n      <td>AMY</td>\n      <td>6</td>\n      <td>30</td>\n      <td>12</td>\n      <td>0</td>\n      <td>6.0</td>\n      <td>45.1</td>\n      <td>105.7</td>\n      <td>NaN</td>\n      <td>190.0</td>\n      <td>251.9</td>\n      <td>NaN</td>\n      <td>NaN</td>\n      <td>NaN</td>\n      <td>NaN</td>\n    </tr>\n  </tbody>\n</table>\n</div>"
     },
     "metadata": {},
     "execution_count": 30
    }
   ],
   "source": [
    "cols_keep = ['atcf_code','storm_name','month','day','hour','minute']\n",
    "cols_keep += [c for c in bfe_processed_df if c.endswith(\"T01\")]\n",
    "error_columns = [c for c in bfe_processed_df if c.endswith(\"T01\")]\n",
    "bfe_processed_df = bfe_processed_df[cols_keep]\n",
    "bfe_processed_df = bfe_processed_df.replace(-9999.0, np.NaN)\n",
    "bfe_processed_df.head(10)\n"
   ]
  },
  {
   "cell_type": "code",
   "execution_count": 45,
   "metadata": {},
   "outputs": [
    {
     "output_type": "execute_result",
     "data": {
      "text/plain": [
       "[9.947448716627221,\n",
       " 35.9376353591159,\n",
       " 65.27252017085915,\n",
       " 83.7014018691586,\n",
       " 123.216520406742,\n",
       " 189.22815847645066,\n",
       " 174.35930186433913,\n",
       " 229.30592885375447]"
      ]
     },
     "metadata": {},
     "execution_count": 45
    }
   ],
   "source": [
    "forcast_errors = bfe_processed_df[error_columns]\n",
    "forcast_error_times = [int(x[:3]) for x in error_columns][:-2]\n",
    "forcast_error_average = forcast_errors.mean().tolist()[:-2]\n",
    "forcast_error_average"
   ]
  },
  {
   "cell_type": "code",
   "execution_count": null,
   "metadata": {},
   "outputs": [],
   "source": [
    "sns.lineplot(x=forcast_error_times, y=forcast_error_average)"
   ]
  }
 ]
}